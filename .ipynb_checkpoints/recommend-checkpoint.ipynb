{
 "cells": [
  {
   "cell_type": "code",
   "execution_count": 193,
   "id": "4c345f2d-e291-4888-a967-d1214b82f67b",
   "metadata": {},
   "outputs": [],
   "source": [
    "# Libraries\n",
    "import pandas as pd\n",
    "import csv\n",
    "from scipy.sparse import coo_matrix"
   ]
  },
  {
   "cell_type": "markdown",
   "id": "9d3605ac-1c44-49e1-95cb-a368791ee424",
   "metadata": {},
   "source": [
    "---"
   ]
  },
  {
   "cell_type": "markdown",
   "id": "5d265147-ba9a-415b-aee6-7bf7a17e93b1",
   "metadata": {},
   "source": [
    "## Exploratory Data Analysis"
   ]
  },
  {
   "cell_type": "markdown",
   "id": "004041f3-d9f5-48f9-9305-06c326a8576f",
   "metadata": {},
   "source": [
    "**\"liked_books.csv\"**\n",
    "- File containing our liked books"
   ]
  },
  {
   "cell_type": "code",
   "execution_count": 2,
   "id": "b4a6234b-b387-4553-830c-0635803a1b2c",
   "metadata": {},
   "outputs": [
    {
     "data": {
      "text/html": [
       "<div>\n",
       "<style scoped>\n",
       "    .dataframe tbody tr th:only-of-type {\n",
       "        vertical-align: middle;\n",
       "    }\n",
       "\n",
       "    .dataframe tbody tr th {\n",
       "        vertical-align: top;\n",
       "    }\n",
       "\n",
       "    .dataframe thead th {\n",
       "        text-align: right;\n",
       "    }\n",
       "</style>\n",
       "<table border=\"1\" class=\"dataframe\">\n",
       "  <thead>\n",
       "    <tr style=\"text-align: right;\">\n",
       "      <th></th>\n",
       "      <th>book_id</th>\n",
       "      <th>title</th>\n",
       "      <th>rating</th>\n",
       "      <th>user_id</th>\n",
       "    </tr>\n",
       "  </thead>\n",
       "  <tbody>\n",
       "    <tr>\n",
       "      <th>35132</th>\n",
       "      <td>4030991</td>\n",
       "      <td>Shoe Dog</td>\n",
       "      <td>5</td>\n",
       "      <td>-1</td>\n",
       "    </tr>\n",
       "    <tr>\n",
       "      <th>117471</th>\n",
       "      <td>35239798</td>\n",
       "      <td>The Courage to be Disliked</td>\n",
       "      <td>5</td>\n",
       "      <td>-1</td>\n",
       "    </tr>\n",
       "    <tr>\n",
       "      <th>134880</th>\n",
       "      <td>25899336</td>\n",
       "      <td>When Breath Becomes Air</td>\n",
       "      <td>5</td>\n",
       "      <td>-1</td>\n",
       "    </tr>\n",
       "    <tr>\n",
       "      <th>176533</th>\n",
       "      <td>6856680</td>\n",
       "      <td>Outliers</td>\n",
       "      <td>5</td>\n",
       "      <td>-1</td>\n",
       "    </tr>\n",
       "    <tr>\n",
       "      <th>206194</th>\n",
       "      <td>8238259</td>\n",
       "      <td>Cloud Atlas</td>\n",
       "      <td>4</td>\n",
       "      <td>-1</td>\n",
       "    </tr>\n",
       "  </tbody>\n",
       "</table>\n",
       "</div>"
      ],
      "text/plain": [
       "         book_id                       title  rating user_id\n",
       "35132    4030991                    Shoe Dog       5      -1\n",
       "117471  35239798  The Courage to be Disliked       5      -1\n",
       "134880  25899336     When Breath Becomes Air       5      -1\n",
       "176533   6856680                    Outliers       5      -1\n",
       "206194   8238259                 Cloud Atlas       4      -1"
      ]
     },
     "execution_count": 2,
     "metadata": {},
     "output_type": "execute_result"
    }
   ],
   "source": [
    "liked_books = pd.read_csv(\"liked_books.csv\", index_col = 0)\n",
    "\n",
    "## Data Cleaning\n",
    "liked_books[\"book_id\"] = liked_books[\"book_id\"].astype(str)\n",
    "liked_books[\"user_id\"] = liked_books[\"user_id\"].astype(str)\n",
    "\n",
    "liked_books.head(5)"
   ]
  },
  {
   "cell_type": "markdown",
   "id": "99fc460d-a066-446a-bf58-1eb88e3fcdd1",
   "metadata": {},
   "source": [
    "**\"book_id_map.csv\"** : \n",
    "- File which maps book id's in \"goodreads_interactions.csv\" to the book id's in \"goodreads_books.json\""
   ]
  },
  {
   "cell_type": "code",
   "execution_count": 3,
   "id": "7d0fae5e-c36c-4bad-8dd8-1b023d2a9e85",
   "metadata": {},
   "outputs": [
    {
     "name": "stdout",
     "output_type": "stream",
     "text": [
      "book_id_csv,book_id\n",
      "0,34684622\n",
      "1,34536488\n",
      "2,34017076\n",
      "3,71730\n",
      "4,30422361\n",
      "5,33503613\n",
      "6,33517540\n",
      "7,34467031\n",
      "8,6383669\n"
     ]
    }
   ],
   "source": [
    "!head book_id_map.csv"
   ]
  },
  {
   "cell_type": "code",
   "execution_count": 6,
   "id": "737fb386-0fe7-406a-aef5-e8ac4e7d0c42",
   "metadata": {},
   "outputs": [],
   "source": [
    "## Create a Dictionary which maps the book ID's\n",
    "csv_book_mapping = {}\n",
    "\n",
    "with open(\"book_id_map.csv\", 'r') as f:\n",
    "    while True:\n",
    "        line = f.readline()\n",
    "        if not line:\n",
    "            break\n",
    "        \n",
    "        csv_id, book_id = map(str.strip, line.split(\",\"))\n",
    "        \n",
    "        \n",
    "        csv_book_mapping[csv_id] = book_id"
   ]
  },
  {
   "cell_type": "markdown",
   "id": "c86edf06-3a66-408c-9ad1-d564f04bdefb",
   "metadata": {},
   "source": [
    "**\"goodreads_interactions.csv\"**\n",
    "- File containing data on other users who liked the same books as us"
   ]
  },
  {
   "cell_type": "code",
   "execution_count": 7,
   "id": "14203663-7148-45af-ba3a-fc965e123bbd",
   "metadata": {},
   "outputs": [
    {
     "name": "stdout",
     "output_type": "stream",
     "text": [
      "user_id,book_id,is_read,rating,is_reviewed\n",
      "0,948,1,5,0\n",
      "0,947,1,5,1\n",
      "0,946,1,5,0\n",
      "0,945,1,5,0\n",
      "0,944,1,5,0\n",
      "0,943,1,5,0\n",
      "0,942,1,5,0\n",
      "0,941,1,5,0\n",
      "0,940,1,5,0\n"
     ]
    }
   ],
   "source": [
    "!head goodreads_interactions.csv"
   ]
  },
  {
   "cell_type": "markdown",
   "id": "340a0308-5d0b-4bf1-b042-6bf754e9bc87",
   "metadata": {},
   "source": [
    "## Find other users who liked the same books as us"
   ]
  },
  {
   "cell_type": "code",
   "execution_count": 16,
   "id": "f0ae3eab-d3cb-4f0f-9b01-45e876c15614",
   "metadata": {},
   "outputs": [],
   "source": [
    "#._ Create a dictionary which contains user ID's and how many liked books they share in common with our set of liked books\n",
    "\n",
    "overlap_users = {}\n",
    "liked_books_set = set(liked_books[\"book_id\"])\n",
    "liked_books_count = liked_books.shape[0]\n",
    "\n",
    "with open(\"goodreads_interactions.csv\", 'r') as f:\n",
    "    for line in f:\n",
    "        user_id, csv_id, _, rating, _ = line.strip().split(',')\n",
    "        try:\n",
    "            rating = int(rating)\n",
    "        except ValueError:\n",
    "            continue\n",
    "            \n",
    "        book_id = csv_book_mapping.get(csv_id)\n",
    "        \n",
    "        if book_id in liked_books_set and rating >= 4:\n",
    "            overlap_users[user_id] = overlap_users.get(user_id, 0) + 1"
   ]
  },
  {
   "cell_type": "markdown",
   "id": "f2322023-adac-4720-a4f1-10cea43c03a0",
   "metadata": {},
   "source": [
    "We will filter the overlapping users for the sake of improving the quality of recommendations and for saving computation."
   ]
  },
  {
   "cell_type": "code",
   "execution_count": 57,
   "id": "950559fe-4435-4f94-9f78-2e2d283fe5a5",
   "metadata": {},
   "outputs": [
    {
     "data": {
      "text/plain": [
       "209"
      ]
     },
     "execution_count": 57,
     "metadata": {},
     "output_type": "execute_result"
    }
   ],
   "source": [
    "#._ filter the dictionary to contain only users who share at least 20% of our liked books\n",
    "\n",
    "filtered_overlap_users = {key: value for key, value in overlap_users.items() if value >= liked_books_count/5}\n",
    "len(filtered_overlap_users)"
   ]
  },
  {
   "cell_type": "markdown",
   "id": "c2754795-bb26-49ff-bc38-49dc6a1e4248",
   "metadata": {},
   "source": [
    "## Find what other books those users liked"
   ]
  },
  {
   "cell_type": "code",
   "execution_count": 72,
   "id": "ce797def-5438-4c02-9f94-709ccf8f077a",
   "metadata": {},
   "outputs": [],
   "source": [
    "#._ Construct a list of all the books overlapping users also liked\n",
    "\n",
    "rec_lines = []\n",
    "filtered_overlap_users_set = set(filtered_overlap_users)\n",
    "\n",
    "with open(\"goodreads_interactions.csv\",'r') as f:\n",
    "    reader = csv.reader(f)\n",
    "    header = next(reader)\n",
    "    \n",
    "    for row in reader:\n",
    "        user_id, csv_id, _, rating, _ = row\n",
    "        \n",
    "        if user_id in filtered_overlap_users_set:\n",
    "\n",
    "            book_id = csv_book_mapping.get(csv_id)\n",
    "\n",
    "            if book_id and book_id not in liked_books_set:\n",
    "                rec_lines.append([user_id, book_id, rating])"
   ]
  },
  {
   "cell_type": "code",
   "execution_count": 191,
   "id": "a5b9aaec-1416-497e-a1e4-65687ad6b3dc",
   "metadata": {},
   "outputs": [],
   "source": [
    "#._ Construct a dataframe of the users books and ratings along with our liked books\n",
    "\n",
    "recs = pd.DataFrame(rec_lines, columns = [\"user_id\", \"book_id\", \"rating\"])\n",
    "recs = pd.concat([liked_books[[\"user_id\", \"book_id\", \"rating\"]], recs])\n",
    "\n",
    "## Variable coercion\n",
    "recs[\"user_id\"] = recs[\"user_id\"].astype(str)\n",
    "recs[\"book_id\"] = recs[\"book_id\"].astype(str)\n",
    "recs[\"rating\"] = recs[\"rating\"].astype(int)\n",
    "\n",
    "## Index creation for users and books\n",
    "recs[\"user_index\"] = recs[\"user_id\"].astype(\"category\").cat.codes\n",
    "recs[\"book_index\"] = recs[\"book_id\"].astype(\"category\").cat.codes"
   ]
  },
  {
   "cell_type": "code",
   "execution_count": 201,
   "id": "172e0604-06f0-423a-ae43-01dd30334e66",
   "metadata": {},
   "outputs": [
    {
     "data": {
      "text/plain": [
       "84679836004"
      ]
     },
     "execution_count": 201,
     "metadata": {},
     "output_type": "execute_result"
    }
   ],
   "source": [
    "len(recs[\"user_index\"]) * len(recs[\"book_index\"])"
   ]
  },
  {
   "cell_type": "markdown",
   "id": "bc6107cf-e797-4075-8e2d-4e3ade352b35",
   "metadata": {},
   "source": [
    "The above output is the amount of individual elements we would have to store in a dense matrix. For the sake of conserving as much of our RAM as possible, we will instead construct a sparse matrix."
   ]
  },
  {
   "cell_type": "markdown",
   "id": "ec6750b4-6bcc-46cd-89ff-0b0b3a5da550",
   "metadata": {},
   "source": [
    "## Construct a Sparse Matrix"
   ]
  },
  {
   "cell_type": "code",
   "execution_count": 202,
   "id": "577c9355-62b6-4fb9-be8d-14c6dc133b9d",
   "metadata": {},
   "outputs": [
    {
     "data": {
      "text/plain": [
       "<210x122890 sparse matrix of type '<class 'numpy.int64'>'\n",
       "\twith 290998 stored elements in COOrdinate format>"
      ]
     },
     "execution_count": 202,
     "metadata": {},
     "output_type": "execute_result"
    }
   ],
   "source": [
    "ratings_mat_coo = coo_matrix((recs[\"rating\"], (recs[\"user_index\"], recs[\"book_index\"])))\n",
    "ratings_mat_coo"
   ]
  },
  {
   "cell_type": "code",
   "execution_count": 203,
   "id": "9240dbdd-016a-4cae-9fd3-e6a90dc33575",
   "metadata": {},
   "outputs": [
    {
     "data": {
      "text/plain": [
       "<210x122890 sparse matrix of type '<class 'numpy.int64'>'\n",
       "\twith 290998 stored elements in Compressed Sparse Row format>"
      ]
     },
     "execution_count": 203,
     "metadata": {},
     "output_type": "execute_result"
    }
   ],
   "source": [
    "ratings_mat = ratings_mat_coo.tocsr()\n",
    "ratings_mat"
   ]
  },
  {
   "cell_type": "markdown",
   "id": "377fc9e4-a529-478a-84c5-e1b11193059d",
   "metadata": {},
   "source": [
    "We converted our sparse matrix to csr format because the majority of utilities ran in this script are only compatible with sparse matrices in csr format"
   ]
  },
  {
   "cell_type": "code",
   "execution_count": null,
   "id": "e3fb443d-23c2-4165-a569-5d3eef338142",
   "metadata": {},
   "outputs": [],
   "source": []
  },
  {
   "cell_type": "code",
   "execution_count": 125,
   "id": "181378c2-3bb3-4f76-9715-1a13bf275144",
   "metadata": {},
   "outputs": [],
   "source": [
    "all_recs = all_recs.merge(books_titles, how = \"inner\", on = \"book_id\")"
   ]
  },
  {
   "cell_type": "code",
   "execution_count": 126,
   "id": "ac17a8f7-4dd3-467a-97c3-7a42ed06184d",
   "metadata": {},
   "outputs": [],
   "source": [
    "# if a book is very popular in our set and less popular on goodreads, it has a higher score\n",
    "all_recs[\"score\"] = all_recs[\"book_count\"] * (all_recs[\"book_count\"] / all_recs[\"ratings\"])"
   ]
  },
  {
   "cell_type": "code",
   "execution_count": 127,
   "id": "e2a9dab9-ebe0-4c76-ac69-b468ab21da9b",
   "metadata": {},
   "outputs": [
    {
     "data": {
      "text/plain": [
       "118243       when breath becomes air\n",
       "510423          flowers for algernon\n",
       "1072710    pimp the story of my life\n",
       "Name: mod_title, dtype: object"
      ]
     },
     "execution_count": 127,
     "metadata": {},
     "output_type": "execute_result"
    }
   ],
   "source": [
    "liked_books_titles = books_titles[books_titles[\"book_id\"].isin(liked_books)][\"mod_title\"]\n",
    "liked_books_titles"
   ]
  },
  {
   "cell_type": "code",
   "execution_count": 130,
   "id": "9229a717-d4e4-4136-8431-3e20adf89a85",
   "metadata": {},
   "outputs": [],
   "source": [
    "# remove other instances of books in our liked books list\n",
    "all_recs = all_recs[~all_recs[\"mod_title\"].isin(liked_books_titles)]"
   ]
  },
  {
   "cell_type": "code",
   "execution_count": null,
   "id": "cca1ad0d-9cd7-4b35-aec6-a8f9cfd43533",
   "metadata": {},
   "outputs": [],
   "source": [
    "def make_clickable(val):\n",
    "    return '<a target=\"_blank\" href=\"{}\">Goodreads</a>'.format(val)\n",
    "\n",
    "def show_cover(val):\n",
    "    return '<img src=\"{}\" width = 50></img>'.format(val)"
   ]
  }
 ],
 "metadata": {
  "kernelspec": {
   "display_name": "Python 3 (ipykernel)",
   "language": "python",
   "name": "python3"
  },
  "language_info": {
   "codemirror_mode": {
    "name": "ipython",
    "version": 3
   },
   "file_extension": ".py",
   "mimetype": "text/x-python",
   "name": "python",
   "nbconvert_exporter": "python",
   "pygments_lexer": "ipython3",
   "version": "3.10.9"
  }
 },
 "nbformat": 4,
 "nbformat_minor": 5
}
