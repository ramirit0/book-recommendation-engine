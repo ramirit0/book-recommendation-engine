{
 "cells": [
  {
   "cell_type": "code",
   "execution_count": 69,
   "id": "4c345f2d-e291-4888-a967-d1214b82f67b",
   "metadata": {},
   "outputs": [],
   "source": [
    "# Libraries\n",
    "import pandas as pd\n",
    "import csv"
   ]
  },
  {
   "cell_type": "markdown",
   "id": "9d3605ac-1c44-49e1-95cb-a368791ee424",
   "metadata": {},
   "source": [
    "---"
   ]
  },
  {
   "cell_type": "markdown",
   "id": "5d265147-ba9a-415b-aee6-7bf7a17e93b1",
   "metadata": {},
   "source": [
    "## Exploratory Data Analysis"
   ]
  },
  {
   "cell_type": "markdown",
   "id": "004041f3-d9f5-48f9-9305-06c326a8576f",
   "metadata": {},
   "source": [
    "**\"liked_books.csv\"**\n",
    "- File containing our liked books"
   ]
  },
  {
   "cell_type": "code",
   "execution_count": 61,
   "id": "b4a6234b-b387-4553-830c-0635803a1b2c",
   "metadata": {},
   "outputs": [
    {
     "data": {
      "text/html": [
       "<div>\n",
       "<style scoped>\n",
       "    .dataframe tbody tr th:only-of-type {\n",
       "        vertical-align: middle;\n",
       "    }\n",
       "\n",
       "    .dataframe tbody tr th {\n",
       "        vertical-align: top;\n",
       "    }\n",
       "\n",
       "    .dataframe thead th {\n",
       "        text-align: right;\n",
       "    }\n",
       "</style>\n",
       "<table border=\"1\" class=\"dataframe\">\n",
       "  <thead>\n",
       "    <tr style=\"text-align: right;\">\n",
       "      <th></th>\n",
       "      <th>book_id</th>\n",
       "      <th>title</th>\n",
       "      <th>rating</th>\n",
       "      <th>user_id</th>\n",
       "    </tr>\n",
       "  </thead>\n",
       "  <tbody>\n",
       "    <tr>\n",
       "      <th>35132</th>\n",
       "      <td>4030991</td>\n",
       "      <td>Shoe Dog</td>\n",
       "      <td>5</td>\n",
       "      <td>-1</td>\n",
       "    </tr>\n",
       "    <tr>\n",
       "      <th>117471</th>\n",
       "      <td>35239798</td>\n",
       "      <td>The Courage to be Disliked</td>\n",
       "      <td>5</td>\n",
       "      <td>-1</td>\n",
       "    </tr>\n",
       "    <tr>\n",
       "      <th>134880</th>\n",
       "      <td>25899336</td>\n",
       "      <td>When Breath Becomes Air</td>\n",
       "      <td>5</td>\n",
       "      <td>-1</td>\n",
       "    </tr>\n",
       "    <tr>\n",
       "      <th>176533</th>\n",
       "      <td>6856680</td>\n",
       "      <td>Outliers</td>\n",
       "      <td>5</td>\n",
       "      <td>-1</td>\n",
       "    </tr>\n",
       "    <tr>\n",
       "      <th>206194</th>\n",
       "      <td>8238259</td>\n",
       "      <td>Cloud Atlas</td>\n",
       "      <td>4</td>\n",
       "      <td>-1</td>\n",
       "    </tr>\n",
       "  </tbody>\n",
       "</table>\n",
       "</div>"
      ],
      "text/plain": [
       "         book_id                       title  rating user_id\n",
       "35132    4030991                    Shoe Dog       5      -1\n",
       "117471  35239798  The Courage to be Disliked       5      -1\n",
       "134880  25899336     When Breath Becomes Air       5      -1\n",
       "176533   6856680                    Outliers       5      -1\n",
       "206194   8238259                 Cloud Atlas       4      -1"
      ]
     },
     "execution_count": 61,
     "metadata": {},
     "output_type": "execute_result"
    }
   ],
   "source": [
    "liked_books = pd.read_csv(\"liked_books.csv\", index_col = 0)\n",
    "\n",
    "## Data Cleaning\n",
    "liked_books[\"book_id\"] = liked_books[\"book_id\"].astype(str)\n",
    "liked_books[\"user_id\"] = liked_books[\"user_id\"].astype(str)\n",
    "\n",
    "liked_books.head(5)"
   ]
  },
  {
   "cell_type": "markdown",
   "id": "99fc460d-a066-446a-bf58-1eb88e3fcdd1",
   "metadata": {},
   "source": [
    "**\"book_id_map.csv\"** : \n",
    "- File which maps book id's in \"goodreads_interactions.csv\" to the book id's in \"goodreads_books.json\""
   ]
  },
  {
   "cell_type": "code",
   "execution_count": 15,
   "id": "7d0fae5e-c36c-4bad-8dd8-1b023d2a9e85",
   "metadata": {},
   "outputs": [
    {
     "name": "stdout",
     "output_type": "stream",
     "text": [
      "book_id_csv,book_id\n",
      "0,34684622\n",
      "1,34536488\n",
      "2,34017076\n",
      "3,71730\n",
      "4,30422361\n",
      "5,33503613\n",
      "6,33517540\n",
      "7,34467031\n",
      "8,6383669\n"
     ]
    }
   ],
   "source": [
    "!head book_id_map.csv"
   ]
  },
  {
   "cell_type": "code",
   "execution_count": 16,
   "id": "737fb386-0fe7-406a-aef5-e8ac4e7d0c42",
   "metadata": {},
   "outputs": [],
   "source": [
    "## Create a Dictionary which maps the book ID's\n",
    "csv_book_mapping = {}\n",
    "\n",
    "with open(\"book_id_map.csv\", 'r') as f:\n",
    "    while True:\n",
    "        line = f.readline()\n",
    "        if not line:\n",
    "            break\n",
    "        \n",
    "        csv_id, book_id = map(str.strip, line.split(\",\"))\n",
    "        \n",
    "        \n",
    "        csv_book_mapping[csv_id] = book_id"
   ]
  },
  {
   "cell_type": "markdown",
   "id": "c86edf06-3a66-408c-9ad1-d564f04bdefb",
   "metadata": {},
   "source": [
    "**\"goodreads_interactions.csv\"**\n",
    "- File containing data on other users who liked the same books as us"
   ]
  },
  {
   "cell_type": "code",
   "execution_count": 17,
   "id": "14203663-7148-45af-ba3a-fc965e123bbd",
   "metadata": {},
   "outputs": [
    {
     "name": "stdout",
     "output_type": "stream",
     "text": [
      "user_id,book_id,is_read,rating,is_reviewed\n",
      "0,948,1,5,0\n",
      "0,947,1,5,1\n",
      "0,946,1,5,0\n",
      "0,945,1,5,0\n",
      "0,944,1,5,0\n",
      "0,943,1,5,0\n",
      "0,942,1,5,0\n",
      "0,941,1,5,0\n",
      "0,940,1,5,0\n"
     ]
    }
   ],
   "source": [
    "!head goodreads_interactions.csv"
   ]
  },
  {
   "cell_type": "markdown",
   "id": "340a0308-5d0b-4bf1-b042-6bf754e9bc87",
   "metadata": {},
   "source": [
    "## Find other users who liked the same books as us"
   ]
  },
  {
   "cell_type": "code",
   "execution_count": 122,
   "id": "4286450d-78ab-4199-8076-dd5b00cac11a",
   "metadata": {},
   "outputs": [],
   "source": [
    "#._ Create a dictionary which contains user ID's and how many liked books we share in common\n",
    "\n",
    "overlap_users = {}\n",
    "liked_books_set = set(liked_books[\"book_id\"])\n",
    "\n",
    "\n",
    "with open(\"goodreads_interactions.csv\",'r') as f:    \n",
    "    while True:\n",
    "        \n",
    "        line = f.readline()\n",
    "        if not line:\n",
    "            break\n",
    "        \n",
    "        user_id, csv_id, _, rating, _ = line.strip().split(',')\n",
    "        try:\n",
    "            rating = int(rating)\n",
    "        except:\n",
    "            continue\n",
    "        \n",
    "        \n",
    "        book_id = csv_book_mapping.get(csv_id)\n",
    "        \n",
    "\n",
    "        if book_id in liked_books_set and rating >= 4:\n",
    "            if user_id not in overlap_users:\n",
    "                overlap_users[user_id] = 1\n",
    "            else:\n",
    "                overlap_users[user_id] +=1"
   ]
  },
  {
   "cell_type": "markdown",
   "id": "f2322023-adac-4720-a4f1-10cea43c03a0",
   "metadata": {},
   "source": [
    "We will filter the overlapping users for the sake of improving the quality of recommendations and for saving computation."
   ]
  },
  {
   "cell_type": "code",
   "execution_count": 136,
   "id": "950559fe-4435-4f94-9f78-2e2d283fe5a5",
   "metadata": {},
   "outputs": [
    {
     "data": {
      "text/plain": [
       "209"
      ]
     },
     "execution_count": 136,
     "metadata": {},
     "output_type": "execute_result"
    }
   ],
   "source": [
    "#._ filter the dictionary to contain only users who share 20% of our liked books\n",
    "filtered_overlap_users = [i for i in overlap_users.values() if i >= liked_books.shape[0]/5]\n",
    "len(filtered_overlap_users)"
   ]
  },
  {
   "cell_type": "markdown",
   "id": "c2754795-bb26-49ff-bc38-49dc6a1e4248",
   "metadata": {},
   "source": [
    "## Find what other books those users liked"
   ]
  },
  {
   "cell_type": "code",
   "execution_count": 141,
   "id": "ce797def-5438-4c02-9f94-709ccf8f077a",
   "metadata": {},
   "outputs": [],
   "source": [
    "#._ Construct a list of all the books overlapping users also liked\n",
    "\n",
    "rec_lines = []\n",
    "\n",
    "with open(\"goodreads_interactions.csv\",'r') as f:\n",
    "    reader = csv.reader(f)\n",
    "    header = next(reader)\n",
    "    \n",
    "    for row in reader:\n",
    "        user_id, csv_id, _, rating, _ = row\n",
    "        \n",
    "        if user_id in filtered_overlap_users:\n",
    "\n",
    "            book_id = csv_book_mapping.get(csv_id)\n",
    "\n",
    "            if book_id and book_id not in liked_books_set:\n",
    "                rec_lines.append([user_id, book_id, rating])"
   ]
  },
  {
   "cell_type": "code",
   "execution_count": null,
   "id": "939e0845-3945-4fe7-b70d-fd74ff8ff489",
   "metadata": {},
   "outputs": [],
   "source": []
  },
  {
   "cell_type": "code",
   "execution_count": 85,
   "id": "a5b9aaec-1416-497e-a1e4-65687ad6b3dc",
   "metadata": {},
   "outputs": [
    {
     "data": {
      "text/html": [
       "<div>\n",
       "<style scoped>\n",
       "    .dataframe tbody tr th:only-of-type {\n",
       "        vertical-align: middle;\n",
       "    }\n",
       "\n",
       "    .dataframe tbody tr th {\n",
       "        vertical-align: top;\n",
       "    }\n",
       "\n",
       "    .dataframe thead th {\n",
       "        text-align: right;\n",
       "    }\n",
       "</style>\n",
       "<table border=\"1\" class=\"dataframe\">\n",
       "  <thead>\n",
       "    <tr style=\"text-align: right;\">\n",
       "      <th></th>\n",
       "      <th>user_id</th>\n",
       "      <th>book_id</th>\n",
       "      <th>rating</th>\n",
       "    </tr>\n",
       "  </thead>\n",
       "  <tbody>\n",
       "    <tr>\n",
       "      <th>0</th>\n",
       "      <td>7</td>\n",
       "      <td>13536858</td>\n",
       "      <td>3</td>\n",
       "    </tr>\n",
       "    <tr>\n",
       "      <th>1</th>\n",
       "      <td>7</td>\n",
       "      <td>2767052</td>\n",
       "      <td>5</td>\n",
       "    </tr>\n",
       "    <tr>\n",
       "      <th>2</th>\n",
       "      <td>7</td>\n",
       "      <td>6148028</td>\n",
       "      <td>5</td>\n",
       "    </tr>\n",
       "    <tr>\n",
       "      <th>3</th>\n",
       "      <td>7</td>\n",
       "      <td>7260188</td>\n",
       "      <td>5</td>\n",
       "    </tr>\n",
       "    <tr>\n",
       "      <th>4</th>\n",
       "      <td>7</td>\n",
       "      <td>13227454</td>\n",
       "      <td>0</td>\n",
       "    </tr>\n",
       "    <tr>\n",
       "      <th>...</th>\n",
       "      <td>...</td>\n",
       "      <td>...</td>\n",
       "      <td>...</td>\n",
       "    </tr>\n",
       "    <tr>\n",
       "      <th>24232839</th>\n",
       "      <td>876023</td>\n",
       "      <td>16304</td>\n",
       "      <td>0</td>\n",
       "    </tr>\n",
       "    <tr>\n",
       "      <th>24232840</th>\n",
       "      <td>876023</td>\n",
       "      <td>485894</td>\n",
       "      <td>3</td>\n",
       "    </tr>\n",
       "    <tr>\n",
       "      <th>24232841</th>\n",
       "      <td>876023</td>\n",
       "      <td>7613</td>\n",
       "      <td>4</td>\n",
       "    </tr>\n",
       "    <tr>\n",
       "      <th>24232842</th>\n",
       "      <td>876023</td>\n",
       "      <td>17568801</td>\n",
       "      <td>0</td>\n",
       "    </tr>\n",
       "    <tr>\n",
       "      <th>24232843</th>\n",
       "      <td>876023</td>\n",
       "      <td>494</td>\n",
       "      <td>0</td>\n",
       "    </tr>\n",
       "  </tbody>\n",
       "</table>\n",
       "<p>24232844 rows × 3 columns</p>\n",
       "</div>"
      ],
      "text/plain": [
       "         user_id   book_id  rating\n",
       "0              7  13536858       3\n",
       "1              7   2767052       5\n",
       "2              7   6148028       5\n",
       "3              7   7260188       5\n",
       "4              7  13227454       0\n",
       "...          ...       ...     ...\n",
       "24232839  876023     16304       0\n",
       "24232840  876023    485894       3\n",
       "24232841  876023      7613       4\n",
       "24232842  876023  17568801       0\n",
       "24232843  876023       494       0\n",
       "\n",
       "[24232844 rows x 3 columns]"
      ]
     },
     "execution_count": 85,
     "metadata": {},
     "output_type": "execute_result"
    }
   ],
   "source": [
    "#._ Construct a frequency dataframe showing which books appear the most\n",
    "\n",
    "recs = pd.DataFrame(rec_lines, columns = [\"user_id\", \"book_id\", \"rating\"])\n",
    "recs[\"book_id\"] = recs[\"book_id\"].astype(str)\n",
    "\n",
    "top_recs = recs[\"book_id\"].value_counts().head(10)\n",
    "top_recs = top_recs.index.value"
   ]
  },
  {
   "cell_type": "code",
   "execution_count": 91,
   "id": "524c33b0-57ad-44d4-8ce8-4ee495c68041",
   "metadata": {},
   "outputs": [],
   "source": [
    "books_titles = pd.read_json(\"books_titles.json\")\n",
    "books_titles[\"book_id\"] = books_titles[\"book_id\"].astype(str)"
   ]
  },
  {
   "cell_type": "code",
   "execution_count": 79,
   "id": "f3a68729-69a2-4162-bd4a-d7bd95eac23d",
   "metadata": {},
   "outputs": [
    {
     "data": {
      "text/html": [
       "<div>\n",
       "<style scoped>\n",
       "    .dataframe tbody tr th:only-of-type {\n",
       "        vertical-align: middle;\n",
       "    }\n",
       "\n",
       "    .dataframe tbody tr th {\n",
       "        vertical-align: top;\n",
       "    }\n",
       "\n",
       "    .dataframe thead th {\n",
       "        text-align: right;\n",
       "    }\n",
       "</style>\n",
       "<table border=\"1\" class=\"dataframe\">\n",
       "  <thead>\n",
       "    <tr style=\"text-align: right;\">\n",
       "      <th></th>\n",
       "      <th>book_id</th>\n",
       "      <th>title</th>\n",
       "      <th>ratings</th>\n",
       "      <th>url</th>\n",
       "      <th>cover_image</th>\n",
       "      <th>mod_title</th>\n",
       "    </tr>\n",
       "  </thead>\n",
       "  <tbody>\n",
       "    <tr>\n",
       "      <th>284473</th>\n",
       "      <td>2767052</td>\n",
       "      <td>The Hunger Games (The Hunger Games, #1)</td>\n",
       "      <td>4899965</td>\n",
       "      <td>https://www.goodreads.com/book/show/2767052-th...</td>\n",
       "      <td>https://images.gr-assets.com/books/1447303603m...</td>\n",
       "      <td>the hunger games the hunger games 1</td>\n",
       "    </tr>\n",
       "    <tr>\n",
       "      <th>396828</th>\n",
       "      <td>7624</td>\n",
       "      <td>Lord of the Flies</td>\n",
       "      <td>1638289</td>\n",
       "      <td>https://www.goodreads.com/book/show/7624.Lord_...</td>\n",
       "      <td>https://images.gr-assets.com/books/1327869409m...</td>\n",
       "      <td>lord of the flies</td>\n",
       "    </tr>\n",
       "    <tr>\n",
       "      <th>401395</th>\n",
       "      <td>5107</td>\n",
       "      <td>The Catcher in the Rye</td>\n",
       "      <td>2086945</td>\n",
       "      <td>https://www.goodreads.com/book/show/5107.The_C...</td>\n",
       "      <td>https://images.gr-assets.com/books/1398034300m...</td>\n",
       "      <td>the catcher in the rye</td>\n",
       "    </tr>\n",
       "    <tr>\n",
       "      <th>463463</th>\n",
       "      <td>4671</td>\n",
       "      <td>The Great Gatsby</td>\n",
       "      <td>2758812</td>\n",
       "      <td>https://www.goodreads.com/book/show/4671.The_G...</td>\n",
       "      <td>https://images.gr-assets.com/books/1490528560m...</td>\n",
       "      <td>the great gatsby</td>\n",
       "    </tr>\n",
       "    <tr>\n",
       "      <th>510423</th>\n",
       "      <td>18373</td>\n",
       "      <td>Flowers for Algernon</td>\n",
       "      <td>320856</td>\n",
       "      <td>https://www.goodreads.com/book/show/18373.Flow...</td>\n",
       "      <td>https://images.gr-assets.com/books/1367141311m...</td>\n",
       "      <td>flowers for algernon</td>\n",
       "    </tr>\n",
       "    <tr>\n",
       "      <th>569831</th>\n",
       "      <td>5</td>\n",
       "      <td>Harry Potter and the Prisoner of Azkaban (Harr...</td>\n",
       "      <td>1876252</td>\n",
       "      <td>https://www.goodreads.com/book/show/5.Harry_Po...</td>\n",
       "      <td>https://images.gr-assets.com/books/1499277281m...</td>\n",
       "      <td>harry potter and the prisoner of azkaban harry...</td>\n",
       "    </tr>\n",
       "    <tr>\n",
       "      <th>615314</th>\n",
       "      <td>5470</td>\n",
       "      <td>1984</td>\n",
       "      <td>2023937</td>\n",
       "      <td>https://www.goodreads.com/book/show/5470.1984</td>\n",
       "      <td>https://images.gr-assets.com/books/1348990566m...</td>\n",
       "      <td>1984</td>\n",
       "    </tr>\n",
       "    <tr>\n",
       "      <th>770177</th>\n",
       "      <td>7613</td>\n",
       "      <td>Animal Farm</td>\n",
       "      <td>1928931</td>\n",
       "      <td>https://www.goodreads.com/book/show/7613.Anima...</td>\n",
       "      <td>https://images.gr-assets.com/books/1424037542m...</td>\n",
       "      <td>animal farm</td>\n",
       "    </tr>\n",
       "    <tr>\n",
       "      <th>790927</th>\n",
       "      <td>2657</td>\n",
       "      <td>To Kill a Mockingbird</td>\n",
       "      <td>3255518</td>\n",
       "      <td>https://www.goodreads.com/book/show/2657.To_Ki...</td>\n",
       "      <td>https://images.gr-assets.com/books/1361975680m...</td>\n",
       "      <td>to kill a mockingbird</td>\n",
       "    </tr>\n",
       "    <tr>\n",
       "      <th>878545</th>\n",
       "      <td>3</td>\n",
       "      <td>Harry Potter and the Sorcerer's Stone (Harry P...</td>\n",
       "      <td>4765497</td>\n",
       "      <td>https://www.goodreads.com/book/show/3.Harry_Po...</td>\n",
       "      <td>https://images.gr-assets.com/books/1474154022m...</td>\n",
       "      <td>harry potter and the sorcerers stone harry pot...</td>\n",
       "    </tr>\n",
       "  </tbody>\n",
       "</table>\n",
       "</div>"
      ],
      "text/plain": [
       "        book_id                                              title  ratings  \\\n",
       "284473  2767052            The Hunger Games (The Hunger Games, #1)  4899965   \n",
       "396828     7624                                  Lord of the Flies  1638289   \n",
       "401395     5107                             The Catcher in the Rye  2086945   \n",
       "463463     4671                                   The Great Gatsby  2758812   \n",
       "510423    18373                               Flowers for Algernon   320856   \n",
       "569831        5  Harry Potter and the Prisoner of Azkaban (Harr...  1876252   \n",
       "615314     5470                                               1984  2023937   \n",
       "770177     7613                                        Animal Farm  1928931   \n",
       "790927     2657                              To Kill a Mockingbird  3255518   \n",
       "878545        3  Harry Potter and the Sorcerer's Stone (Harry P...  4765497   \n",
       "\n",
       "                                                      url  \\\n",
       "284473  https://www.goodreads.com/book/show/2767052-th...   \n",
       "396828  https://www.goodreads.com/book/show/7624.Lord_...   \n",
       "401395  https://www.goodreads.com/book/show/5107.The_C...   \n",
       "463463  https://www.goodreads.com/book/show/4671.The_G...   \n",
       "510423  https://www.goodreads.com/book/show/18373.Flow...   \n",
       "569831  https://www.goodreads.com/book/show/5.Harry_Po...   \n",
       "615314      https://www.goodreads.com/book/show/5470.1984   \n",
       "770177  https://www.goodreads.com/book/show/7613.Anima...   \n",
       "790927  https://www.goodreads.com/book/show/2657.To_Ki...   \n",
       "878545  https://www.goodreads.com/book/show/3.Harry_Po...   \n",
       "\n",
       "                                              cover_image  \\\n",
       "284473  https://images.gr-assets.com/books/1447303603m...   \n",
       "396828  https://images.gr-assets.com/books/1327869409m...   \n",
       "401395  https://images.gr-assets.com/books/1398034300m...   \n",
       "463463  https://images.gr-assets.com/books/1490528560m...   \n",
       "510423  https://images.gr-assets.com/books/1367141311m...   \n",
       "569831  https://images.gr-assets.com/books/1499277281m...   \n",
       "615314  https://images.gr-assets.com/books/1348990566m...   \n",
       "770177  https://images.gr-assets.com/books/1424037542m...   \n",
       "790927  https://images.gr-assets.com/books/1361975680m...   \n",
       "878545  https://images.gr-assets.com/books/1474154022m...   \n",
       "\n",
       "                                                mod_title  \n",
       "284473                the hunger games the hunger games 1  \n",
       "396828                                  lord of the flies  \n",
       "401395                             the catcher in the rye  \n",
       "463463                                   the great gatsby  \n",
       "510423                               flowers for algernon  \n",
       "569831  harry potter and the prisoner of azkaban harry...  \n",
       "615314                                               1984  \n",
       "770177                                        animal farm  \n",
       "790927                              to kill a mockingbird  \n",
       "878545  harry potter and the sorcerers stone harry pot...  "
      ]
     },
     "execution_count": 79,
     "metadata": {},
     "output_type": "execute_result"
    }
   ],
   "source": [
    "books_titles[books_titles[\"book_id\"].isin(top_recs)]"
   ]
  },
  {
   "cell_type": "markdown",
   "id": "f70c5066-d93b-4c9d-acd9-cc0609638106",
   "metadata": {},
   "source": [
    "The problem with the above output of recommended books is that the list is very generic. These books are very popular and aren't necessarily catered towards our specific list of liked books."
   ]
  },
  {
   "cell_type": "code",
   "execution_count": 123,
   "id": "243a687b-b0ba-4052-952c-88caf5fa2c88",
   "metadata": {},
   "outputs": [],
   "source": [
    "all_recs = recs[\"book_id\"].value_counts()\n",
    "all_recs = all_recs.to_frame().reset_index()\n",
    "all_recs.columns = [\"book_id\", \"book_count\"]"
   ]
  },
  {
   "cell_type": "code",
   "execution_count": 124,
   "id": "e0ae71e6-9ea2-4778-bd0e-9773b4aa1792",
   "metadata": {},
   "outputs": [
    {
     "data": {
      "text/html": [
       "<div>\n",
       "<style scoped>\n",
       "    .dataframe tbody tr th:only-of-type {\n",
       "        vertical-align: middle;\n",
       "    }\n",
       "\n",
       "    .dataframe tbody tr th {\n",
       "        vertical-align: top;\n",
       "    }\n",
       "\n",
       "    .dataframe thead th {\n",
       "        text-align: right;\n",
       "    }\n",
       "</style>\n",
       "<table border=\"1\" class=\"dataframe\">\n",
       "  <thead>\n",
       "    <tr style=\"text-align: right;\">\n",
       "      <th></th>\n",
       "      <th>book_id</th>\n",
       "      <th>book_count</th>\n",
       "    </tr>\n",
       "  </thead>\n",
       "  <tbody>\n",
       "    <tr>\n",
       "      <th>0</th>\n",
       "      <td>18373</td>\n",
       "      <td>22055</td>\n",
       "    </tr>\n",
       "    <tr>\n",
       "      <th>1</th>\n",
       "      <td>2657</td>\n",
       "      <td>19049</td>\n",
       "    </tr>\n",
       "    <tr>\n",
       "      <th>2</th>\n",
       "      <td>3</td>\n",
       "      <td>17690</td>\n",
       "    </tr>\n",
       "    <tr>\n",
       "      <th>3</th>\n",
       "      <td>2767052</td>\n",
       "      <td>17527</td>\n",
       "    </tr>\n",
       "    <tr>\n",
       "      <th>4</th>\n",
       "      <td>5470</td>\n",
       "      <td>17332</td>\n",
       "    </tr>\n",
       "    <tr>\n",
       "      <th>...</th>\n",
       "      <td>...</td>\n",
       "      <td>...</td>\n",
       "    </tr>\n",
       "    <tr>\n",
       "      <th>1079466</th>\n",
       "      <td>1835714</td>\n",
       "      <td>1</td>\n",
       "    </tr>\n",
       "    <tr>\n",
       "      <th>1079467</th>\n",
       "      <td>1120892</td>\n",
       "      <td>1</td>\n",
       "    </tr>\n",
       "    <tr>\n",
       "      <th>1079468</th>\n",
       "      <td>946827</td>\n",
       "      <td>1</td>\n",
       "    </tr>\n",
       "    <tr>\n",
       "      <th>1079469</th>\n",
       "      <td>1537130</td>\n",
       "      <td>1</td>\n",
       "    </tr>\n",
       "    <tr>\n",
       "      <th>1079470</th>\n",
       "      <td>2036110</td>\n",
       "      <td>1</td>\n",
       "    </tr>\n",
       "  </tbody>\n",
       "</table>\n",
       "<p>1079471 rows × 2 columns</p>\n",
       "</div>"
      ],
      "text/plain": [
       "         book_id  book_count\n",
       "0          18373       22055\n",
       "1           2657       19049\n",
       "2              3       17690\n",
       "3        2767052       17527\n",
       "4           5470       17332\n",
       "...          ...         ...\n",
       "1079466  1835714           1\n",
       "1079467  1120892           1\n",
       "1079468   946827           1\n",
       "1079469  1537130           1\n",
       "1079470  2036110           1\n",
       "\n",
       "[1079471 rows x 2 columns]"
      ]
     },
     "execution_count": 124,
     "metadata": {},
     "output_type": "execute_result"
    }
   ],
   "source": [
    "all_recs"
   ]
  },
  {
   "cell_type": "code",
   "execution_count": 125,
   "id": "181378c2-3bb3-4f76-9715-1a13bf275144",
   "metadata": {},
   "outputs": [],
   "source": [
    "all_recs = all_recs.merge(books_titles, how = \"inner\", on = \"book_id\")"
   ]
  },
  {
   "cell_type": "code",
   "execution_count": 126,
   "id": "ac17a8f7-4dd3-467a-97c3-7a42ed06184d",
   "metadata": {},
   "outputs": [],
   "source": [
    "# if a book is very popular in our set and less popular on goodreads, it has a higher score\n",
    "all_recs[\"score\"] = all_recs[\"book_count\"] * (all_recs[\"book_count\"] / all_recs[\"ratings\"])"
   ]
  },
  {
   "cell_type": "code",
   "execution_count": 127,
   "id": "e2a9dab9-ebe0-4c76-ac69-b468ab21da9b",
   "metadata": {},
   "outputs": [
    {
     "data": {
      "text/plain": [
       "118243       when breath becomes air\n",
       "510423          flowers for algernon\n",
       "1072710    pimp the story of my life\n",
       "Name: mod_title, dtype: object"
      ]
     },
     "execution_count": 127,
     "metadata": {},
     "output_type": "execute_result"
    }
   ],
   "source": [
    "liked_books_titles = books_titles[books_titles[\"book_id\"].isin(liked_books)][\"mod_title\"]\n",
    "liked_books_titles"
   ]
  },
  {
   "cell_type": "code",
   "execution_count": 130,
   "id": "9229a717-d4e4-4136-8431-3e20adf89a85",
   "metadata": {},
   "outputs": [],
   "source": [
    "# remove other instances of books in our liked books list\n",
    "all_recs = all_recs[~all_recs[\"mod_title\"].isin(liked_books_titles)]"
   ]
  },
  {
   "cell_type": "code",
   "execution_count": null,
   "id": "cca1ad0d-9cd7-4b35-aec6-a8f9cfd43533",
   "metadata": {},
   "outputs": [],
   "source": [
    "def make_clickable(val):\n",
    "    return '<a target=\"_blank\" href=\"{}\">Goodreads</a>'.format(val)\n",
    "\n",
    "def show_cover(val):\n",
    "    return '<img src=\"{}\" width = 50></img>'.format(val)"
   ]
  }
 ],
 "metadata": {
  "kernelspec": {
   "display_name": "Python 3 (ipykernel)",
   "language": "python",
   "name": "python3"
  },
  "language_info": {
   "codemirror_mode": {
    "name": "ipython",
    "version": 3
   },
   "file_extension": ".py",
   "mimetype": "text/x-python",
   "name": "python",
   "nbconvert_exporter": "python",
   "pygments_lexer": "ipython3",
   "version": "3.10.9"
  }
 },
 "nbformat": 4,
 "nbformat_minor": 5
}
