{
 "cells": [
  {
   "cell_type": "code",
   "execution_count": 219,
   "id": "4c345f2d-e291-4888-a967-d1214b82f67b",
   "metadata": {},
   "outputs": [],
   "source": [
    "# Libraries\n",
    "import pandas as pd\n",
    "import numpy as np\n",
    "import csv\n",
    "from scipy.sparse import coo_matrix\n",
    "from sklearn.metrics.pairwise import cosine_similarity"
   ]
  },
  {
   "cell_type": "markdown",
   "id": "9d3605ac-1c44-49e1-95cb-a368791ee424",
   "metadata": {},
   "source": [
    "---"
   ]
  },
  {
   "cell_type": "markdown",
   "id": "5d265147-ba9a-415b-aee6-7bf7a17e93b1",
   "metadata": {},
   "source": [
    "## Exploratory Data Analysis"
   ]
  },
  {
   "cell_type": "markdown",
   "id": "004041f3-d9f5-48f9-9305-06c326a8576f",
   "metadata": {},
   "source": [
    "**\"liked_books.csv\"**\n",
    "- File containing our liked books"
   ]
  },
  {
   "cell_type": "code",
   "execution_count": 291,
   "id": "b4a6234b-b387-4553-830c-0635803a1b2c",
   "metadata": {},
   "outputs": [
    {
     "data": {
      "text/html": [
       "<div>\n",
       "<style scoped>\n",
       "    .dataframe tbody tr th:only-of-type {\n",
       "        vertical-align: middle;\n",
       "    }\n",
       "\n",
       "    .dataframe tbody tr th {\n",
       "        vertical-align: top;\n",
       "    }\n",
       "\n",
       "    .dataframe thead th {\n",
       "        text-align: right;\n",
       "    }\n",
       "</style>\n",
       "<table border=\"1\" class=\"dataframe\">\n",
       "  <thead>\n",
       "    <tr style=\"text-align: right;\">\n",
       "      <th></th>\n",
       "      <th>book_id</th>\n",
       "      <th>title</th>\n",
       "      <th>mod_title</th>\n",
       "      <th>rating</th>\n",
       "      <th>user_id</th>\n",
       "    </tr>\n",
       "  </thead>\n",
       "  <tbody>\n",
       "    <tr>\n",
       "      <th>35132</th>\n",
       "      <td>4030991</td>\n",
       "      <td>Shoe Dog</td>\n",
       "      <td>shoe dog phil knight</td>\n",
       "      <td>5</td>\n",
       "      <td>-1</td>\n",
       "    </tr>\n",
       "    <tr>\n",
       "      <th>117471</th>\n",
       "      <td>35239798</td>\n",
       "      <td>The Courage to be Disliked</td>\n",
       "      <td>the courage to be disliked ichiro kishimi fumi...</td>\n",
       "      <td>5</td>\n",
       "      <td>-1</td>\n",
       "    </tr>\n",
       "    <tr>\n",
       "      <th>134880</th>\n",
       "      <td>25899336</td>\n",
       "      <td>When Breath Becomes Air</td>\n",
       "      <td>when breath becomes air paul kalanithi abraham...</td>\n",
       "      <td>5</td>\n",
       "      <td>-1</td>\n",
       "    </tr>\n",
       "    <tr>\n",
       "      <th>176533</th>\n",
       "      <td>6856680</td>\n",
       "      <td>Outliers</td>\n",
       "      <td>outliers malcolm gladwell</td>\n",
       "      <td>5</td>\n",
       "      <td>-1</td>\n",
       "    </tr>\n",
       "    <tr>\n",
       "      <th>206194</th>\n",
       "      <td>8238259</td>\n",
       "      <td>Cloud Atlas</td>\n",
       "      <td>cloud atlas david mitchell</td>\n",
       "      <td>4</td>\n",
       "      <td>-1</td>\n",
       "    </tr>\n",
       "  </tbody>\n",
       "</table>\n",
       "</div>"
      ],
      "text/plain": [
       "         book_id                       title  \\\n",
       "35132    4030991                    Shoe Dog   \n",
       "117471  35239798  The Courage to be Disliked   \n",
       "134880  25899336     When Breath Becomes Air   \n",
       "176533   6856680                    Outliers   \n",
       "206194   8238259                 Cloud Atlas   \n",
       "\n",
       "                                                mod_title  rating user_id  \n",
       "35132                                shoe dog phil knight       5      -1  \n",
       "117471  the courage to be disliked ichiro kishimi fumi...       5      -1  \n",
       "134880  when breath becomes air paul kalanithi abraham...       5      -1  \n",
       "176533                          outliers malcolm gladwell       5      -1  \n",
       "206194                         cloud atlas david mitchell       4      -1  "
      ]
     },
     "execution_count": 291,
     "metadata": {},
     "output_type": "execute_result"
    }
   ],
   "source": [
    "liked_books = pd.read_csv(\"liked_books.csv\", index_col = 0)\n",
    "\n",
    "## Data Cleaning\n",
    "liked_books[\"book_id\"] = liked_books[\"book_id\"].astype(str)\n",
    "liked_books[\"user_id\"] = liked_books[\"user_id\"].astype(str)\n",
    "\n",
    "liked_books.head(5)"
   ]
  },
  {
   "cell_type": "markdown",
   "id": "99fc460d-a066-446a-bf58-1eb88e3fcdd1",
   "metadata": {},
   "source": [
    "**\"book_id_map.csv\"** : \n",
    "- File which maps book id's in \"goodreads_interactions.csv\" to the book id's in \"goodreads_books.json\""
   ]
  },
  {
   "cell_type": "code",
   "execution_count": 3,
   "id": "7d0fae5e-c36c-4bad-8dd8-1b023d2a9e85",
   "metadata": {},
   "outputs": [
    {
     "name": "stdout",
     "output_type": "stream",
     "text": [
      "book_id_csv,book_id\n",
      "0,34684622\n",
      "1,34536488\n",
      "2,34017076\n",
      "3,71730\n",
      "4,30422361\n",
      "5,33503613\n",
      "6,33517540\n",
      "7,34467031\n",
      "8,6383669\n"
     ]
    }
   ],
   "source": [
    "!head book_id_map.csv"
   ]
  },
  {
   "cell_type": "code",
   "execution_count": 6,
   "id": "737fb386-0fe7-406a-aef5-e8ac4e7d0c42",
   "metadata": {},
   "outputs": [],
   "source": [
    "## Create a Dictionary which maps the book ID's\n",
    "csv_book_mapping = {}\n",
    "\n",
    "with open(\"book_id_map.csv\", 'r') as f:\n",
    "    while True:\n",
    "        line = f.readline()\n",
    "        if not line:\n",
    "            break\n",
    "        \n",
    "        csv_id, book_id = map(str.strip, line.split(\",\"))\n",
    "        \n",
    "        \n",
    "        csv_book_mapping[csv_id] = book_id"
   ]
  },
  {
   "cell_type": "markdown",
   "id": "c86edf06-3a66-408c-9ad1-d564f04bdefb",
   "metadata": {},
   "source": [
    "**\"goodreads_interactions.csv\"**\n",
    "- File containing data on other users who liked the same books as us"
   ]
  },
  {
   "cell_type": "code",
   "execution_count": 7,
   "id": "14203663-7148-45af-ba3a-fc965e123bbd",
   "metadata": {},
   "outputs": [
    {
     "name": "stdout",
     "output_type": "stream",
     "text": [
      "user_id,book_id,is_read,rating,is_reviewed\n",
      "0,948,1,5,0\n",
      "0,947,1,5,1\n",
      "0,946,1,5,0\n",
      "0,945,1,5,0\n",
      "0,944,1,5,0\n",
      "0,943,1,5,0\n",
      "0,942,1,5,0\n",
      "0,941,1,5,0\n",
      "0,940,1,5,0\n"
     ]
    }
   ],
   "source": [
    "!head goodreads_interactions.csv"
   ]
  },
  {
   "cell_type": "markdown",
   "id": "340a0308-5d0b-4bf1-b042-6bf754e9bc87",
   "metadata": {},
   "source": [
    "## Find other users who liked the same books as us"
   ]
  },
  {
   "cell_type": "code",
   "execution_count": 16,
   "id": "f0ae3eab-d3cb-4f0f-9b01-45e876c15614",
   "metadata": {},
   "outputs": [],
   "source": [
    "#._ Create a dictionary which contains user ID's and how many liked books they share in common with our set of liked books\n",
    "\n",
    "overlap_users = {}\n",
    "liked_books_set = set(liked_books[\"book_id\"])\n",
    "liked_books_count = liked_books.shape[0]\n",
    "\n",
    "with open(\"goodreads_interactions.csv\", 'r') as f:\n",
    "    for line in f:\n",
    "        user_id, csv_id, _, rating, _ = line.strip().split(',')\n",
    "        try:\n",
    "            rating = int(rating)\n",
    "        except ValueError:\n",
    "            continue\n",
    "            \n",
    "        book_id = csv_book_mapping.get(csv_id)\n",
    "        \n",
    "        if book_id in liked_books_set and rating >= 4:\n",
    "            overlap_users[user_id] = overlap_users.get(user_id, 0) + 1"
   ]
  },
  {
   "cell_type": "markdown",
   "id": "f2322023-adac-4720-a4f1-10cea43c03a0",
   "metadata": {},
   "source": [
    "We will filter the overlapping users for the sake of improving the quality of recommendations and for saving computation."
   ]
  },
  {
   "cell_type": "code",
   "execution_count": 57,
   "id": "950559fe-4435-4f94-9f78-2e2d283fe5a5",
   "metadata": {},
   "outputs": [
    {
     "data": {
      "text/plain": [
       "209"
      ]
     },
     "execution_count": 57,
     "metadata": {},
     "output_type": "execute_result"
    }
   ],
   "source": [
    "#._ filter the dictionary to contain only users who share at least 20% of our liked books\n",
    "\n",
    "filtered_overlap_users = {key: value for key, value in overlap_users.items() if value >= liked_books_count/5}\n",
    "len(filtered_overlap_users)"
   ]
  },
  {
   "cell_type": "markdown",
   "id": "c2754795-bb26-49ff-bc38-49dc6a1e4248",
   "metadata": {},
   "source": [
    "## Find what other books those users liked"
   ]
  },
  {
   "cell_type": "code",
   "execution_count": 204,
   "id": "ce797def-5438-4c02-9f94-709ccf8f077a",
   "metadata": {},
   "outputs": [],
   "source": [
    "#._ Construct a list of all the books overlapping users also liked\n",
    "\n",
    "rec_lines = []\n",
    "filtered_overlap_users_set = set(filtered_overlap_users)\n",
    "\n",
    "with open(\"goodreads_interactions.csv\",'r') as f:\n",
    "    reader = csv.reader(f)\n",
    "    header = next(reader)\n",
    "    \n",
    "    for row in reader:\n",
    "        user_id, csv_id, _, rating, _ = row\n",
    "        \n",
    "        if user_id in filtered_overlap_users_set:\n",
    "\n",
    "            book_id = csv_book_mapping.get(csv_id)\n",
    "\n",
    "            if book_id:\n",
    "                rec_lines.append([user_id, book_id, rating])"
   ]
  },
  {
   "cell_type": "code",
   "execution_count": 205,
   "id": "a5b9aaec-1416-497e-a1e4-65687ad6b3dc",
   "metadata": {},
   "outputs": [],
   "source": [
    "#._ Construct a dataframe of the users books and ratings along with our liked books\n",
    "\n",
    "recs = pd.DataFrame(rec_lines, columns = [\"user_id\", \"book_id\", \"rating\"])\n",
    "recs = pd.concat([liked_books[[\"user_id\", \"book_id\", \"rating\"]], recs])\n",
    "\n",
    "## Variable coercion\n",
    "recs[\"user_id\"] = recs[\"user_id\"].astype(str)\n",
    "recs[\"book_id\"] = recs[\"book_id\"].astype(str)\n",
    "recs[\"rating\"] = recs[\"rating\"].astype(int)\n",
    "\n",
    "## Index creation for users and books\n",
    "recs[\"user_index\"] = recs[\"user_id\"].astype(\"category\").cat.codes\n",
    "recs[\"book_index\"] = recs[\"book_id\"].astype(\"category\").cat.codes"
   ]
  },
  {
   "cell_type": "code",
   "execution_count": 206,
   "id": "172e0604-06f0-423a-ae43-01dd30334e66",
   "metadata": {},
   "outputs": [
    {
     "data": {
      "text/plain": [
       "85067305569"
      ]
     },
     "execution_count": 206,
     "metadata": {},
     "output_type": "execute_result"
    }
   ],
   "source": [
    "len(recs[\"user_index\"]) * len(recs[\"book_index\"])"
   ]
  },
  {
   "cell_type": "markdown",
   "id": "bc6107cf-e797-4075-8e2d-4e3ade352b35",
   "metadata": {},
   "source": [
    "The above output is the amount of individual elements we would have to store in a dense matrix. For the sake of conserving as much of our RAM as possible, we will instead construct a sparse matrix."
   ]
  },
  {
   "cell_type": "markdown",
   "id": "ec6750b4-6bcc-46cd-89ff-0b0b3a5da550",
   "metadata": {},
   "source": [
    "## Construct a Sparse Matrix"
   ]
  },
  {
   "cell_type": "code",
   "execution_count": 207,
   "id": "577c9355-62b6-4fb9-be8d-14c6dc133b9d",
   "metadata": {},
   "outputs": [
    {
     "data": {
      "text/plain": [
       "<210x122890 sparse matrix of type '<class 'numpy.int64'>'\n",
       "\twith 291663 stored elements in COOrdinate format>"
      ]
     },
     "execution_count": 207,
     "metadata": {},
     "output_type": "execute_result"
    }
   ],
   "source": [
    "ratings_mat_coo = coo_matrix((recs[\"rating\"], (recs[\"user_index\"], recs[\"book_index\"])))\n",
    "ratings_mat_coo"
   ]
  },
  {
   "cell_type": "code",
   "execution_count": 208,
   "id": "9240dbdd-016a-4cae-9fd3-e6a90dc33575",
   "metadata": {},
   "outputs": [
    {
     "data": {
      "text/plain": [
       "<210x122890 sparse matrix of type '<class 'numpy.int64'>'\n",
       "\twith 291663 stored elements in Compressed Sparse Row format>"
      ]
     },
     "execution_count": 208,
     "metadata": {},
     "output_type": "execute_result"
    }
   ],
   "source": [
    "ratings_mat = ratings_mat_coo.tocsr()\n",
    "ratings_mat"
   ]
  },
  {
   "cell_type": "markdown",
   "id": "377fc9e4-a529-478a-84c5-e1b11193059d",
   "metadata": {},
   "source": [
    "We converted our sparse matrix to csr format because the majority of utilities ran in this script are only compatible with sparse matrices in csr format"
   ]
  },
  {
   "cell_type": "code",
   "execution_count": 226,
   "id": "e3fb443d-23c2-4165-a569-5d3eef338142",
   "metadata": {},
   "outputs": [
    {
     "data": {
      "text/plain": [
       "array([1.        , 0.04520878, 0.0231263 , 0.03227147, 0.06064665,\n",
       "       0.02977542, 0.07078707, 0.02122546, 0.03851848, 0.04726033,\n",
       "       0.03815264, 0.0546714 , 0.02647368, 0.06641602, 0.0277758 ,\n",
       "       0.02822264, 0.05754852, 0.08054442, 0.03831864, 0.03697016,\n",
       "       0.02140355, 0.03214207, 0.04201714, 0.08582603, 0.05167651,\n",
       "       0.03385579, 0.06197533, 0.10986547, 0.03374985, 0.01453874,\n",
       "       0.02681954, 0.01964493, 0.06703279, 0.08181598, 0.04166791,\n",
       "       0.05478098, 0.06566191, 0.02328752, 0.06298765, 0.01751794,\n",
       "       0.04870192, 0.01623584, 0.05555714, 0.06294617, 0.0189607 ,\n",
       "       0.0433072 , 0.04729731, 0.0406229 , 0.05371389, 0.03780212,\n",
       "       0.0445879 , 0.03016056, 0.0309742 , 0.07357517, 0.04678338,\n",
       "       0.03385329, 0.03373383, 0.03764961, 0.05682389, 0.0690278 ,\n",
       "       0.03174416, 0.04696181, 0.04874628, 0.01393375, 0.05217653,\n",
       "       0.01827346, 0.06083418, 0.05021814, 0.07299048, 0.04066322,\n",
       "       0.03376713, 0.0535619 , 0.02988941, 0.04352443, 0.04626308,\n",
       "       0.11832396, 0.04734746, 0.03561742, 0.07295361, 0.05910438,\n",
       "       0.04788203, 0.04479073, 0.06272127, 0.07742671, 0.01852466,\n",
       "       0.07344247, 0.06548583, 0.02333218, 0.04392561, 0.06631896,\n",
       "       0.10027614, 0.0490983 , 0.05706916, 0.05327897, 0.05475024,\n",
       "       0.0285126 , 0.03462859, 0.03274159, 0.06439811, 0.039182  ])"
      ]
     },
     "execution_count": 226,
     "metadata": {},
     "output_type": "execute_result"
    }
   ],
   "source": [
    "#._ Find the users who are most similar to us in terms of liked books\n",
    "\n",
    "similarity = cosine_similarity(ratings_mat[0,:], ratings_mat).flatten()\n",
    "similarity[0:100]"
   ]
  },
  {
   "cell_type": "markdown",
   "id": "6f6b232e-9837-4c03-b0e7-89c079cbbf5d",
   "metadata": {},
   "source": [
    "Here we calculated the similarity between our ratings and the other 209 users' ratings using a cosine similarity function"
   ]
  },
  {
   "cell_type": "code",
   "execution_count": 257,
   "id": "da0c3a93-2814-49d8-bd59-0e6467ab1d84",
   "metadata": {},
   "outputs": [],
   "source": [
    "indices = np.argpartition(similarity, -15)[-15:]\n",
    "\n",
    "similar_users = recs[recs[\"user_index\"].isin(indices)]\n",
    "similar_users = similar_users[similar_users[\"user_index\"] != 0]"
   ]
  },
  {
   "cell_type": "code",
   "execution_count": 264,
   "id": "859497de-cbf4-4a23-965a-d2b9f303b3e6",
   "metadata": {},
   "outputs": [
    {
     "data": {
      "text/html": [
       "<div>\n",
       "<style scoped>\n",
       "    .dataframe tbody tr th:only-of-type {\n",
       "        vertical-align: middle;\n",
       "    }\n",
       "\n",
       "    .dataframe tbody tr th {\n",
       "        vertical-align: top;\n",
       "    }\n",
       "\n",
       "    .dataframe thead th {\n",
       "        text-align: right;\n",
       "    }\n",
       "</style>\n",
       "<table border=\"1\" class=\"dataframe\">\n",
       "  <thead>\n",
       "    <tr style=\"text-align: right;\">\n",
       "      <th></th>\n",
       "      <th>count</th>\n",
       "      <th>mean</th>\n",
       "    </tr>\n",
       "    <tr>\n",
       "      <th>book_id</th>\n",
       "      <th></th>\n",
       "      <th></th>\n",
       "    </tr>\n",
       "  </thead>\n",
       "  <tbody>\n",
       "    <tr>\n",
       "      <th>1</th>\n",
       "      <td>4</td>\n",
       "      <td>3.50</td>\n",
       "    </tr>\n",
       "    <tr>\n",
       "      <th>1005</th>\n",
       "      <td>1</td>\n",
       "      <td>0.00</td>\n",
       "    </tr>\n",
       "    <tr>\n",
       "      <th>100629</th>\n",
       "      <td>1</td>\n",
       "      <td>0.00</td>\n",
       "    </tr>\n",
       "    <tr>\n",
       "      <th>10065</th>\n",
       "      <td>1</td>\n",
       "      <td>5.00</td>\n",
       "    </tr>\n",
       "    <tr>\n",
       "      <th>100915</th>\n",
       "      <td>4</td>\n",
       "      <td>4.25</td>\n",
       "    </tr>\n",
       "    <tr>\n",
       "      <th>...</th>\n",
       "      <td>...</td>\n",
       "      <td>...</td>\n",
       "    </tr>\n",
       "    <tr>\n",
       "      <th>98248</th>\n",
       "      <td>1</td>\n",
       "      <td>5.00</td>\n",
       "    </tr>\n",
       "    <tr>\n",
       "      <th>9923372</th>\n",
       "      <td>1</td>\n",
       "      <td>0.00</td>\n",
       "    </tr>\n",
       "    <tr>\n",
       "      <th>99300</th>\n",
       "      <td>1</td>\n",
       "      <td>2.00</td>\n",
       "    </tr>\n",
       "    <tr>\n",
       "      <th>99561</th>\n",
       "      <td>4</td>\n",
       "      <td>1.00</td>\n",
       "    </tr>\n",
       "    <tr>\n",
       "      <th>9969571</th>\n",
       "      <td>3</td>\n",
       "      <td>1.00</td>\n",
       "    </tr>\n",
       "  </tbody>\n",
       "</table>\n",
       "<p>1435 rows × 2 columns</p>\n",
       "</div>"
      ],
      "text/plain": [
       "         count  mean\n",
       "book_id             \n",
       "1            4  3.50\n",
       "1005         1  0.00\n",
       "100629       1  0.00\n",
       "10065        1  5.00\n",
       "100915       4  4.25\n",
       "...        ...   ...\n",
       "98248        1  5.00\n",
       "9923372      1  0.00\n",
       "99300        1  2.00\n",
       "99561        4  1.00\n",
       "9969571      3  1.00\n",
       "\n",
       "[1435 rows x 2 columns]"
      ]
     },
     "execution_count": 264,
     "metadata": {},
     "output_type": "execute_result"
    }
   ],
   "source": [
    "book_recs = similar_users.groupby(\"book_id\").rating.agg([\"count\", \"mean\"])\n",
    "book_recs"
   ]
  },
  {
   "cell_type": "code",
   "execution_count": 270,
   "id": "71f096a2-06f3-4e2e-8655-650ada424bb2",
   "metadata": {},
   "outputs": [],
   "source": [
    "books_titles = pd.read_json(\"books_titles.json\")\n",
    "\n",
    "# Data Cleaning\n",
    "books_titles[\"book_id\"] = books_titles[\"book_id\"].astype(str)"
   ]
  },
  {
   "cell_type": "code",
   "execution_count": 283,
   "id": "5a4b1cb5-910e-46a3-9359-1f6b28b2affd",
   "metadata": {},
   "outputs": [
    {
     "data": {
      "text/html": [
       "<div>\n",
       "<style scoped>\n",
       "    .dataframe tbody tr th:only-of-type {\n",
       "        vertical-align: middle;\n",
       "    }\n",
       "\n",
       "    .dataframe tbody tr th {\n",
       "        vertical-align: top;\n",
       "    }\n",
       "\n",
       "    .dataframe thead th {\n",
       "        text-align: right;\n",
       "    }\n",
       "</style>\n",
       "<table border=\"1\" class=\"dataframe\">\n",
       "  <thead>\n",
       "    <tr style=\"text-align: right;\">\n",
       "      <th></th>\n",
       "      <th>book_id</th>\n",
       "      <th>count</th>\n",
       "      <th>mean</th>\n",
       "      <th>title</th>\n",
       "      <th>author</th>\n",
       "      <th>ratings</th>\n",
       "      <th>url</th>\n",
       "      <th>cover_image</th>\n",
       "      <th>mod_title</th>\n",
       "      <th>mod_author</th>\n",
       "    </tr>\n",
       "  </thead>\n",
       "  <tbody>\n",
       "    <tr>\n",
       "      <th>0</th>\n",
       "      <td>1</td>\n",
       "      <td>4</td>\n",
       "      <td>3.50</td>\n",
       "      <td>Harry Potter and the Half-Blood Prince (Harry ...</td>\n",
       "      <td>J.K. Rowling Mary GrandPre</td>\n",
       "      <td>1713866</td>\n",
       "      <td>https://www.goodreads.com/book/show/1.Harry_Po...</td>\n",
       "      <td>https://images.gr-assets.com/books/1361039191m...</td>\n",
       "      <td>harry potter and the halfblood prince harry po...</td>\n",
       "      <td>jk rowling mary grandpre</td>\n",
       "    </tr>\n",
       "    <tr>\n",
       "      <th>1</th>\n",
       "      <td>1005</td>\n",
       "      <td>1</td>\n",
       "      <td>0.00</td>\n",
       "      <td>Think and Grow Rich</td>\n",
       "      <td>Napoleon Hill</td>\n",
       "      <td>87634</td>\n",
       "      <td>https://www.goodreads.com/book/show/1005.Think...</td>\n",
       "      <td>https://s.gr-assets.com/assets/nophoto/book/11...</td>\n",
       "      <td>think and grow rich napoleon hill</td>\n",
       "      <td>napoleon hill</td>\n",
       "    </tr>\n",
       "    <tr>\n",
       "      <th>2</th>\n",
       "      <td>100629</td>\n",
       "      <td>1</td>\n",
       "      <td>0.00</td>\n",
       "      <td>The Universe in a Single Atom: The Convergence...</td>\n",
       "      <td>Dalai Lama XIV</td>\n",
       "      <td>6310</td>\n",
       "      <td>https://www.goodreads.com/book/show/100629.The...</td>\n",
       "      <td>https://images.gr-assets.com/books/1320558690m...</td>\n",
       "      <td>the universe in a single atom the convergence ...</td>\n",
       "      <td>dalai lama xiv</td>\n",
       "    </tr>\n",
       "    <tr>\n",
       "      <th>3</th>\n",
       "      <td>10065</td>\n",
       "      <td>1</td>\n",
       "      <td>5.00</td>\n",
       "      <td>Wayside School Is Falling Down (Wayside School...</td>\n",
       "      <td>Louis Sachar Joel Schick</td>\n",
       "      <td>46885</td>\n",
       "      <td>https://www.goodreads.com/book/show/10065.Ways...</td>\n",
       "      <td>https://images.gr-assets.com/books/1405055796m...</td>\n",
       "      <td>wayside school is falling down wayside school ...</td>\n",
       "      <td>louis sachar joel schick</td>\n",
       "    </tr>\n",
       "    <tr>\n",
       "      <th>4</th>\n",
       "      <td>100915</td>\n",
       "      <td>4</td>\n",
       "      <td>4.25</td>\n",
       "      <td>The Lion, the Witch, and the Wardrobe (Chronic...</td>\n",
       "      <td>C.S. Lewis</td>\n",
       "      <td>1575387</td>\n",
       "      <td>https://www.goodreads.com/book/show/100915.The...</td>\n",
       "      <td>https://images.gr-assets.com/books/1353029077m...</td>\n",
       "      <td>the lion the witch and the wardrobe chronicles...</td>\n",
       "      <td>cs lewis</td>\n",
       "    </tr>\n",
       "    <tr>\n",
       "      <th>...</th>\n",
       "      <td>...</td>\n",
       "      <td>...</td>\n",
       "      <td>...</td>\n",
       "      <td>...</td>\n",
       "      <td>...</td>\n",
       "      <td>...</td>\n",
       "      <td>...</td>\n",
       "      <td>...</td>\n",
       "      <td>...</td>\n",
       "      <td>...</td>\n",
       "    </tr>\n",
       "    <tr>\n",
       "      <th>1428</th>\n",
       "      <td>98248</td>\n",
       "      <td>1</td>\n",
       "      <td>5.00</td>\n",
       "      <td>The Non-Runner's Marathon Trainer</td>\n",
       "      <td>David A. Whitsett Forrest A. Dolgener Tanjala ...</td>\n",
       "      <td>1095</td>\n",
       "      <td>https://www.goodreads.com/book/show/98248.The_...</td>\n",
       "      <td>https://images.gr-assets.com/books/1296236131m...</td>\n",
       "      <td>the nonrunners marathon trainer david a whitse...</td>\n",
       "      <td>david a whitsett forrest a dolgener tanjala jo...</td>\n",
       "    </tr>\n",
       "    <tr>\n",
       "      <th>1429</th>\n",
       "      <td>9923372</td>\n",
       "      <td>1</td>\n",
       "      <td>0.00</td>\n",
       "      <td>Maine</td>\n",
       "      <td>J. Courtney Sullivan</td>\n",
       "      <td>24340</td>\n",
       "      <td>https://www.goodreads.com/book/show/9923372-maine</td>\n",
       "      <td>https://images.gr-assets.com/books/1295996313m...</td>\n",
       "      <td>maine j courtney sullivan</td>\n",
       "      <td>j courtney sullivan</td>\n",
       "    </tr>\n",
       "    <tr>\n",
       "      <th>1430</th>\n",
       "      <td>99300</td>\n",
       "      <td>1</td>\n",
       "      <td>2.00</td>\n",
       "      <td>The Yellow Wallpaper and Other Stories</td>\n",
       "      <td>Charlotte Perkins Gilman</td>\n",
       "      <td>65857</td>\n",
       "      <td>https://www.goodreads.com/book/show/99300.The_...</td>\n",
       "      <td>https://images.gr-assets.com/books/1327909237m...</td>\n",
       "      <td>the yellow wallpaper and other stories charlot...</td>\n",
       "      <td>charlotte perkins gilman</td>\n",
       "    </tr>\n",
       "    <tr>\n",
       "      <th>1431</th>\n",
       "      <td>99561</td>\n",
       "      <td>4</td>\n",
       "      <td>1.00</td>\n",
       "      <td>Looking for Alaska</td>\n",
       "      <td>John Green</td>\n",
       "      <td>804587</td>\n",
       "      <td>https://www.goodreads.com/book/show/99561.Look...</td>\n",
       "      <td>https://images.gr-assets.com/books/1394798630m...</td>\n",
       "      <td>looking for alaska john green</td>\n",
       "      <td>john green</td>\n",
       "    </tr>\n",
       "    <tr>\n",
       "      <th>1432</th>\n",
       "      <td>9969571</td>\n",
       "      <td>3</td>\n",
       "      <td>1.00</td>\n",
       "      <td>Ready Player One</td>\n",
       "      <td>Ernest Cline</td>\n",
       "      <td>376328</td>\n",
       "      <td>https://www.goodreads.com/book/show/9969571-re...</td>\n",
       "      <td>https://images.gr-assets.com/books/1500930947m...</td>\n",
       "      <td>ready player one ernest cline</td>\n",
       "      <td>ernest cline</td>\n",
       "    </tr>\n",
       "  </tbody>\n",
       "</table>\n",
       "<p>1433 rows × 10 columns</p>\n",
       "</div>"
      ],
      "text/plain": [
       "      book_id  count  mean                                              title  \\\n",
       "0           1      4  3.50  Harry Potter and the Half-Blood Prince (Harry ...   \n",
       "1        1005      1  0.00                                Think and Grow Rich   \n",
       "2      100629      1  0.00  The Universe in a Single Atom: The Convergence...   \n",
       "3       10065      1  5.00  Wayside School Is Falling Down (Wayside School...   \n",
       "4      100915      4  4.25  The Lion, the Witch, and the Wardrobe (Chronic...   \n",
       "...       ...    ...   ...                                                ...   \n",
       "1428    98248      1  5.00                  The Non-Runner's Marathon Trainer   \n",
       "1429  9923372      1  0.00                                              Maine   \n",
       "1430    99300      1  2.00             The Yellow Wallpaper and Other Stories   \n",
       "1431    99561      4  1.00                                 Looking for Alaska   \n",
       "1432  9969571      3  1.00                                   Ready Player One   \n",
       "\n",
       "                                                 author  ratings  \\\n",
       "0                            J.K. Rowling Mary GrandPre  1713866   \n",
       "1                                         Napoleon Hill    87634   \n",
       "2                                        Dalai Lama XIV     6310   \n",
       "3                              Louis Sachar Joel Schick    46885   \n",
       "4                                            C.S. Lewis  1575387   \n",
       "...                                                 ...      ...   \n",
       "1428  David A. Whitsett Forrest A. Dolgener Tanjala ...     1095   \n",
       "1429                               J. Courtney Sullivan    24340   \n",
       "1430                           Charlotte Perkins Gilman    65857   \n",
       "1431                                         John Green   804587   \n",
       "1432                                       Ernest Cline   376328   \n",
       "\n",
       "                                                    url  \\\n",
       "0     https://www.goodreads.com/book/show/1.Harry_Po...   \n",
       "1     https://www.goodreads.com/book/show/1005.Think...   \n",
       "2     https://www.goodreads.com/book/show/100629.The...   \n",
       "3     https://www.goodreads.com/book/show/10065.Ways...   \n",
       "4     https://www.goodreads.com/book/show/100915.The...   \n",
       "...                                                 ...   \n",
       "1428  https://www.goodreads.com/book/show/98248.The_...   \n",
       "1429  https://www.goodreads.com/book/show/9923372-maine   \n",
       "1430  https://www.goodreads.com/book/show/99300.The_...   \n",
       "1431  https://www.goodreads.com/book/show/99561.Look...   \n",
       "1432  https://www.goodreads.com/book/show/9969571-re...   \n",
       "\n",
       "                                            cover_image  \\\n",
       "0     https://images.gr-assets.com/books/1361039191m...   \n",
       "1     https://s.gr-assets.com/assets/nophoto/book/11...   \n",
       "2     https://images.gr-assets.com/books/1320558690m...   \n",
       "3     https://images.gr-assets.com/books/1405055796m...   \n",
       "4     https://images.gr-assets.com/books/1353029077m...   \n",
       "...                                                 ...   \n",
       "1428  https://images.gr-assets.com/books/1296236131m...   \n",
       "1429  https://images.gr-assets.com/books/1295996313m...   \n",
       "1430  https://images.gr-assets.com/books/1327909237m...   \n",
       "1431  https://images.gr-assets.com/books/1394798630m...   \n",
       "1432  https://images.gr-assets.com/books/1500930947m...   \n",
       "\n",
       "                                              mod_title  \\\n",
       "0     harry potter and the halfblood prince harry po...   \n",
       "1                     think and grow rich napoleon hill   \n",
       "2     the universe in a single atom the convergence ...   \n",
       "3     wayside school is falling down wayside school ...   \n",
       "4     the lion the witch and the wardrobe chronicles...   \n",
       "...                                                 ...   \n",
       "1428  the nonrunners marathon trainer david a whitse...   \n",
       "1429                          maine j courtney sullivan   \n",
       "1430  the yellow wallpaper and other stories charlot...   \n",
       "1431                      looking for alaska john green   \n",
       "1432                      ready player one ernest cline   \n",
       "\n",
       "                                             mod_author  \n",
       "0                              jk rowling mary grandpre  \n",
       "1                                         napoleon hill  \n",
       "2                                        dalai lama xiv  \n",
       "3                              louis sachar joel schick  \n",
       "4                                              cs lewis  \n",
       "...                                                 ...  \n",
       "1428  david a whitsett forrest a dolgener tanjala jo...  \n",
       "1429                                j courtney sullivan  \n",
       "1430                           charlotte perkins gilman  \n",
       "1431                                         john green  \n",
       "1432                                       ernest cline  \n",
       "\n",
       "[1433 rows x 10 columns]"
      ]
     },
     "execution_count": 283,
     "metadata": {},
     "output_type": "execute_result"
    }
   ],
   "source": [
    "book_recs = book_recs.merge(books_titles, how = \"inner\", on = \"book_id\")\n",
    "book_recs"
   ]
  },
  {
   "cell_type": "code",
   "execution_count": 288,
   "id": "6cf8d67c-80b3-4e5d-b9a0-ac0a2ff1fbcd",
   "metadata": {},
   "outputs": [],
   "source": [
    "#._ Ranking the book recommendations\n",
    "\n",
    "book_recs[\"adjusted_count\"] = book_recs[\"count\"] * (book_recs[\"count\"] / book_recs[\"ratings\"])\n",
    "book_recs[\"score\"] = book_recs[\"mean\"] * book_recs[\"adjusted_count\"]\n",
    "\n",
    "book_recs = book_recs[~book_recs[\"book_id\"].isin(liked_books[\"book_id\"])]\n",
    "\n"
   ]
  },
  {
   "cell_type": "code",
   "execution_count": 290,
   "id": "ae05a25c-57da-43f1-bd05-67eb5ae4fd3f",
   "metadata": {},
   "outputs": [
    {
     "data": {
      "text/html": [
       "<div>\n",
       "<style scoped>\n",
       "    .dataframe tbody tr th:only-of-type {\n",
       "        vertical-align: middle;\n",
       "    }\n",
       "\n",
       "    .dataframe tbody tr th {\n",
       "        vertical-align: top;\n",
       "    }\n",
       "\n",
       "    .dataframe thead th {\n",
       "        text-align: right;\n",
       "    }\n",
       "</style>\n",
       "<table border=\"1\" class=\"dataframe\">\n",
       "  <thead>\n",
       "    <tr style=\"text-align: right;\">\n",
       "      <th></th>\n",
       "      <th>book_id</th>\n",
       "      <th>title</th>\n",
       "      <th>rating</th>\n",
       "      <th>user_id</th>\n",
       "    </tr>\n",
       "  </thead>\n",
       "  <tbody>\n",
       "    <tr>\n",
       "      <th>35132</th>\n",
       "      <td>4030991</td>\n",
       "      <td>Shoe Dog</td>\n",
       "      <td>5</td>\n",
       "      <td>-1</td>\n",
       "    </tr>\n",
       "    <tr>\n",
       "      <th>117471</th>\n",
       "      <td>35239798</td>\n",
       "      <td>The Courage to be Disliked</td>\n",
       "      <td>5</td>\n",
       "      <td>-1</td>\n",
       "    </tr>\n",
       "    <tr>\n",
       "      <th>134880</th>\n",
       "      <td>25899336</td>\n",
       "      <td>When Breath Becomes Air</td>\n",
       "      <td>5</td>\n",
       "      <td>-1</td>\n",
       "    </tr>\n",
       "    <tr>\n",
       "      <th>176533</th>\n",
       "      <td>6856680</td>\n",
       "      <td>Outliers</td>\n",
       "      <td>5</td>\n",
       "      <td>-1</td>\n",
       "    </tr>\n",
       "    <tr>\n",
       "      <th>206194</th>\n",
       "      <td>8238259</td>\n",
       "      <td>Cloud Atlas</td>\n",
       "      <td>4</td>\n",
       "      <td>-1</td>\n",
       "    </tr>\n",
       "    <tr>\n",
       "      <th>345891</th>\n",
       "      <td>11987</td>\n",
       "      <td>The Myth of Sisyphus and Other Essays</td>\n",
       "      <td>4</td>\n",
       "      <td>-1</td>\n",
       "    </tr>\n",
       "    <tr>\n",
       "      <th>411052</th>\n",
       "      <td>75855</td>\n",
       "      <td>Utopia</td>\n",
       "      <td>3</td>\n",
       "      <td>-1</td>\n",
       "    </tr>\n",
       "    <tr>\n",
       "      <th>583667</th>\n",
       "      <td>18373</td>\n",
       "      <td>Flowers for Algernon</td>\n",
       "      <td>5</td>\n",
       "      <td>-1</td>\n",
       "    </tr>\n",
       "    <tr>\n",
       "      <th>893083</th>\n",
       "      <td>133518</td>\n",
       "      <td>The Things They Carried</td>\n",
       "      <td>5</td>\n",
       "      <td>-1</td>\n",
       "    </tr>\n",
       "    <tr>\n",
       "      <th>996572</th>\n",
       "      <td>275612</td>\n",
       "      <td>My Bloody Life: The Making of a Latin King</td>\n",
       "      <td>5</td>\n",
       "      <td>-1</td>\n",
       "    </tr>\n",
       "    <tr>\n",
       "      <th>1226423</th>\n",
       "      <td>108713</td>\n",
       "      <td>Pimp: The Story of My Life</td>\n",
       "      <td>5</td>\n",
       "      <td>-1</td>\n",
       "    </tr>\n",
       "    <tr>\n",
       "      <th>1443571</th>\n",
       "      <td>357636</td>\n",
       "      <td>Civilization and Its Discontents</td>\n",
       "      <td>4</td>\n",
       "      <td>-1</td>\n",
       "    </tr>\n",
       "    <tr>\n",
       "      <th>1479294</th>\n",
       "      <td>596686</td>\n",
       "      <td>Once a King, Always a King</td>\n",
       "      <td>4</td>\n",
       "      <td>-1</td>\n",
       "    </tr>\n",
       "  </tbody>\n",
       "</table>\n",
       "</div>"
      ],
      "text/plain": [
       "          book_id                                       title  rating user_id\n",
       "35132     4030991                                    Shoe Dog       5      -1\n",
       "117471   35239798                  The Courage to be Disliked       5      -1\n",
       "134880   25899336                     When Breath Becomes Air       5      -1\n",
       "176533    6856680                                    Outliers       5      -1\n",
       "206194    8238259                                 Cloud Atlas       4      -1\n",
       "345891      11987       The Myth of Sisyphus and Other Essays       4      -1\n",
       "411052      75855                                      Utopia       3      -1\n",
       "583667      18373                        Flowers for Algernon       5      -1\n",
       "893083     133518                     The Things They Carried       5      -1\n",
       "996572     275612  My Bloody Life: The Making of a Latin King       5      -1\n",
       "1226423    108713                  Pimp: The Story of My Life       5      -1\n",
       "1443571    357636            Civilization and Its Discontents       4      -1\n",
       "1479294    596686                  Once a King, Always a King       4      -1"
      ]
     },
     "execution_count": 290,
     "metadata": {},
     "output_type": "execute_result"
    }
   ],
   "source": [
    "liked_books"
   ]
  },
  {
   "cell_type": "code",
   "execution_count": null,
   "id": "a0e4d00c-eabb-444c-9cb8-5159a4c19283",
   "metadata": {},
   "outputs": [],
   "source": []
  },
  {
   "cell_type": "code",
   "execution_count": 125,
   "id": "181378c2-3bb3-4f76-9715-1a13bf275144",
   "metadata": {},
   "outputs": [],
   "source": [
    "all_recs = all_recs.merge(books_titles, how = \"inner\", on = \"book_id\")"
   ]
  },
  {
   "cell_type": "code",
   "execution_count": 126,
   "id": "ac17a8f7-4dd3-467a-97c3-7a42ed06184d",
   "metadata": {},
   "outputs": [],
   "source": [
    "# if a book is very popular in our set and less popular on goodreads, it has a higher score\n",
    "all_recs[\"score\"] = all_recs[\"book_count\"] * (all_recs[\"book_count\"] / all_recs[\"ratings\"])"
   ]
  },
  {
   "cell_type": "code",
   "execution_count": 265,
   "id": "e2a9dab9-ebe0-4c76-ac69-b468ab21da9b",
   "metadata": {},
   "outputs": [
    {
     "data": {
      "text/plain": [
       "Series([], Name: mod_title, dtype: object)"
      ]
     },
     "execution_count": 265,
     "metadata": {},
     "output_type": "execute_result"
    }
   ],
   "source": [
    "liked_books_titles = books_titles[books_titles[\"book_id\"].isin(liked_books)][\"mod_title\"]\n",
    "liked_books_titles"
   ]
  },
  {
   "cell_type": "code",
   "execution_count": 266,
   "id": "ea633265-e78e-496e-8270-1e0c5b60be80",
   "metadata": {},
   "outputs": [
    {
     "data": {
      "text/plain": [
       "Series([], Name: mod_title, dtype: object)"
      ]
     },
     "execution_count": 266,
     "metadata": {},
     "output_type": "execute_result"
    }
   ],
   "source": []
  }
 ],
 "metadata": {
  "kernelspec": {
   "display_name": "Python 3 (ipykernel)",
   "language": "python",
   "name": "python3"
  },
  "language_info": {
   "codemirror_mode": {
    "name": "ipython",
    "version": 3
   },
   "file_extension": ".py",
   "mimetype": "text/x-python",
   "name": "python",
   "nbconvert_exporter": "python",
   "pygments_lexer": "ipython3",
   "version": "3.10.9"
  }
 },
 "nbformat": 4,
 "nbformat_minor": 5
}
